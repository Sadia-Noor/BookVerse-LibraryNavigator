{
  "nbformat": 4,
  "nbformat_minor": 0,
  "metadata": {
    "colab": {
      "provenance": []
    },
    "kernelspec": {
      "name": "python3",
      "display_name": "Python 3"
    },
    "language_info": {
      "name": "python"
    }
  },
  "cells": [
    {
      "cell_type": "markdown",
      "source": [
        "# **📚 BookVerse: The Library Navigator**\n",
        "Welcome to BookVerse, an interactive Library Management System that helps you navigate a curated collection of self-help and fiction books. Built with Python, this system allows users to manage book inventories, borrow and return books, set up reservations, receive overdue notifications, and get personalized book recommendations.\n",
        "\n",
        "Whether you're a student looking for insightful reads or an admin managing the collection, BookVerse offers a user-friendly, console-based experience designed for libraries focusing on classic and modern literary treasures."
      ],
      "metadata": {
        "id": "Brut2dcsPM-m"
      }
    },
    {
      "cell_type": "markdown",
      "source": [
        "**Features:**\n",
        "- Inventory Management: Add, remove, search, and reserve books.\n",
        "- Borrowing and Returning: Track borrowed books with due dates and overdue alerts.\n",
        "- User Roles: Admin access to advanced management features.\n",
        "- Personalized Recommendations: Suggested readings based on your recent choices.\n",
        "- Statistics Dashboard: Insights into the most popular books and active users.\n",
        "\n",
        "**Get ready to explore, organize, and manage a universe of books with ease!**"
      ],
      "metadata": {
        "id": "xcrq4vcnPUkF"
      }
    },
    {
      "cell_type": "code",
      "source": [
        "from datetime import datetime, timedelta"
      ],
      "metadata": {
        "id": "3kuP-YiH_-sH"
      },
      "execution_count": 1,
      "outputs": []
    },
    {
      "cell_type": "markdown",
      "source": [
        "## Sample Data for Books, Users, and Transactions"
      ],
      "metadata": {
        "id": "93FRwfcJ_3AK"
      }
    },
    {
      "cell_type": "code",
      "execution_count": 2,
      "metadata": {
        "id": "B8ONESsX_0hn"
      },
      "outputs": [],
      "source": [
        "books = [\n",
        "    {\"book_id\": 201, \"title\": \"Atomic Habits\", \"author\": \"James Clear\", \"genre\": \"Self-Help\", \"copies_available\": 2, \"status\": \"Available\", \"reservations\": []},\n",
        "    {\"book_id\": 202, \"title\": \"To Kill a Mockingbird\", \"author\": \"Harper Lee\", \"genre\": \"Fiction\", \"copies_available\": 3, \"status\": \"Available\", \"reservations\": []},\n",
        "    {\"book_id\": 203, \"title\": \"The Power of Now\", \"author\": \"Eckhart Tolle\", \"genre\": \"Self-Help\", \"copies_available\": 1, \"status\": \"Borrowed\", \"reservations\": []},\n",
        "    {\"book_id\": 204, \"title\": \"Pride and Prejudice\", \"author\": \"Jane Austen\", \"genre\": \"Fiction\", \"copies_available\": 4, \"status\": \"Available\", \"reservations\": []},\n",
        "    {\"book_id\": 205, \"title\": \"The 7 Habits of Highly Effective People\", \"author\": \"Stephen R. Covey\", \"genre\": \"Self-Help\", \"copies_available\": 2, \"status\": \"Available\", \"reservations\": []}\n",
        "]\n",
        "\n",
        "users = {\n",
        "    301: {\"user_id\": 301, \"name\": \"Evelyn\", \"role\": \"Student\", \"borrow_history\": [], \"overdue_books\": [], \"password\": \"evelyn123\"},\n",
        "    302: {\"user_id\": 302, \"name\": \"Henry\", \"role\": \"Admin\", \"borrow_history\": [], \"overdue_books\": [], \"password\": \"adminpass\"},\n",
        "    303: {\"user_id\": 303, \"name\": \"Liam\", \"role\": \"Student\", \"borrow_history\": [], \"overdue_books\": [], \"password\": \"liam456\"},\n",
        "    304: {\"user_id\": 304, \"name\": \"Sophia\", \"role\": \"Student\", \"borrow_history\": [], \"overdue_books\": [], \"password\": \"sophia789\"}\n",
        "}\n",
        "\n",
        "transactions = [\n",
        "    {\"transaction_id\": 1, \"user_id\": 301, \"book_id\": 203, \"borrow_date\": \"2024-10-01\", \"due_date\": \"2024-10-15\", \"return_date\": None, \"overdue_status\": \"Overdue\"},\n",
        "    {\"transaction_id\": 2, \"user_id\": 302, \"book_id\": 201, \"borrow_date\": \"2024-10-05\", \"due_date\": \"2024-10-19\", \"return_date\": None, \"overdue_status\": \"Not Overdue\"}\n",
        "]"
      ]
    },
    {
      "cell_type": "code",
      "source": [
        "# Helper function to find a book by its ID\n",
        "def find_book_by_id(book_id):\n",
        "    for book in books:\n",
        "        if book[\"book_id\"] == book_id:\n",
        "            return book\n",
        "    return None"
      ],
      "metadata": {
        "id": "pm-LUM1OACPQ"
      },
      "execution_count": 3,
      "outputs": []
    },
    {
      "cell_type": "code",
      "source": [
        "# Helper function to find a user by their ID\n",
        "def find_user_by_id(user_id):\n",
        "    if user_id in users:\n",
        "        return users[user_id]\n",
        "    return None"
      ],
      "metadata": {
        "id": "0kjNKbSwAF7p"
      },
      "execution_count": 4,
      "outputs": []
    },
    {
      "cell_type": "code",
      "source": [
        "# Function for user login\n",
        "def user_login():\n",
        "    print(\"=== Login ===\")\n",
        "    user_id = int(input(\"Enter your User ID: \").strip())\n",
        "    password = input(\"Enter your password: \").strip()\n",
        "\n",
        "    user = find_user_by_id(user_id)\n",
        "    if user and user[\"password\"] == password:\n",
        "        print(f\"Welcome, {user['name']} ({user['role']})!\")\n",
        "        return user\n",
        "    else:\n",
        "        print(\"Error: Invalid user ID or password.\")\n",
        "        return None"
      ],
      "metadata": {
        "id": "tP7mWkBmAKec"
      },
      "execution_count": 5,
      "outputs": []
    },
    {
      "cell_type": "code",
      "source": [
        "# Helper function to check if user is an admin\n",
        "def is_admin(user):\n",
        "    return user[\"role\"].lower() == \"admin\""
      ],
      "metadata": {
        "id": "3XU00DRzNvCT"
      },
      "execution_count": 6,
      "outputs": []
    },
    {
      "cell_type": "markdown",
      "source": [
        "## Book Inventory Management: Add, Remove, and Search for Books\n"
      ],
      "metadata": {
        "id": "3rjHRhsKNxk4"
      }
    },
    {
      "cell_type": "code",
      "source": [
        "# Function to add a new book to the inventory\n",
        "def add_book(book_id, title, author, genre, copies_available):\n",
        "    if find_book_by_id(book_id):\n",
        "        print(f\"Error: A book with ID {book_id} already exists.\")\n",
        "        return\n",
        "    books.append({\n",
        "        \"book_id\": book_id,\n",
        "        \"title\": title,\n",
        "        \"author\": author,\n",
        "        \"genre\": genre,\n",
        "        \"copies_available\": copies_available,\n",
        "        \"status\": \"Available\" if copies_available > 0 else \"Borrowed\",\n",
        "        \"reservations\": []\n",
        "    })\n",
        "    print(f\"Book '{title}' added to the inventory.\")"
      ],
      "metadata": {
        "id": "-2zKjFlKAPJH"
      },
      "execution_count": 7,
      "outputs": []
    },
    {
      "cell_type": "code",
      "source": [
        "# Function to remove a book from the inventory\n",
        "def remove_book(book_id):\n",
        "    book = find_book_by_id(book_id)\n",
        "    if book:\n",
        "        books.remove(book)\n",
        "        print(f\"Book '{book['title']}' removed from the inventory.\")\n",
        "    else:\n",
        "        print(f\"Error: Book with ID {book_id} not found.\")"
      ],
      "metadata": {
        "id": "iGYEN0iSARNT"
      },
      "execution_count": 8,
      "outputs": []
    },
    {
      "cell_type": "code",
      "source": [
        "# Function to search for a book by title\n",
        "def search_book(title):\n",
        "    found = False\n",
        "    for book in books:\n",
        "        if book[\"title\"].lower() == title.lower():\n",
        "            print(f\"Book found: {book['title']} by {book['author']}, Genre: {book['genre']}, Status: {book['status']}\")\n",
        "            found = True\n",
        "    if not found:\n",
        "        print(\"Book not found.\")"
      ],
      "metadata": {
        "id": "V71uokNjN5-W"
      },
      "execution_count": 9,
      "outputs": []
    },
    {
      "cell_type": "markdown",
      "source": [
        "## Reservation System: Reserve a Book if All Copies Are Borrowed"
      ],
      "metadata": {
        "id": "25E2iWDUAUwL"
      }
    },
    {
      "cell_type": "code",
      "source": [
        "def reserve_book(user_id, book_id):\n",
        "    book = find_book_by_id(book_id)\n",
        "    if not book:\n",
        "        print(\"Error: Book not found.\")\n",
        "        return\n",
        "\n",
        "    if book[\"copies_available\"] == 0:\n",
        "        book[\"reservations\"].append(user_id)\n",
        "        print(f\"Book '{book['title']}' reserved successfully. You will be notified when it becomes available.\")\n",
        "    else:\n",
        "        print(\"Error: Book is currently available. You can borrow it directly.\")"
      ],
      "metadata": {
        "id": "w3KHPZcHAVsx"
      },
      "execution_count": 10,
      "outputs": []
    },
    {
      "cell_type": "markdown",
      "source": [
        "## Borrow and Return System"
      ],
      "metadata": {
        "id": "jBdkIzkRODYk"
      }
    },
    {
      "cell_type": "code",
      "source": [
        "# Function to borrow a book\n",
        "def borrow_book(user_id, book_id):\n",
        "    user = find_user_by_id(user_id)\n",
        "    book = find_book_by_id(book_id)\n",
        "\n",
        "    if not user:\n",
        "        print(\"Error: User not found.\")\n",
        "        return\n",
        "\n",
        "    if not book:\n",
        "        print(\"Error: Book not found.\")\n",
        "        return\n",
        "\n",
        "    if book[\"copies_available\"] > 0:\n",
        "        book[\"copies_available\"] -= 1\n",
        "        book[\"status\"] = \"Borrowed\" if book[\"copies_available\"] == 0 else \"Available\"\n",
        "\n",
        "        borrow_date = datetime.now()\n",
        "        due_date = borrow_date + timedelta(days=14)  # 2-week borrowing period\n",
        "\n",
        "        transactions.append({\n",
        "            \"transaction_id\": len(transactions) + 1,\n",
        "            \"user_id\": user_id,\n",
        "            \"book_id\": book_id,\n",
        "            \"borrow_date\": borrow_date.strftime('%Y-%m-%d'),\n",
        "            \"due_date\": due_date.strftime('%Y-%m-%d'),\n",
        "            \"return_date\": None,\n",
        "            \"overdue_status\": \"Not Overdue\"\n",
        "        })\n",
        "\n",
        "        user[\"borrow_history\"].append(book[\"title\"])\n",
        "        print(f\"Book '{book['title']}' borrowed by {user['name']}. Due date: {due_date.strftime('%Y-%m-%d')}\")\n",
        "    else:\n",
        "        print(f\"Error: Book '{book['title']}' is currently unavailable.\")"
      ],
      "metadata": {
        "id": "j6eE67wnAZ1B"
      },
      "execution_count": 11,
      "outputs": []
    },
    {
      "cell_type": "code",
      "source": [
        "# Function to return a book\n",
        "def return_book(user_id, book_id):\n",
        "    user = find_user_by_id(user_id)\n",
        "    book = find_book_by_id(book_id)\n",
        "\n",
        "    if not user:\n",
        "        print(\"Error: User not found.\")\n",
        "        return\n",
        "\n",
        "    if not book:\n",
        "        print(\"Error: Book not found.\")\n",
        "        return\n",
        "\n",
        "    transaction_found = False\n",
        "    for transaction in transactions:\n",
        "        if transaction[\"user_id\"] == user_id and transaction[\"book_id\"] == book_id and transaction[\"return_date\"] is None:\n",
        "            return_date = datetime.now()\n",
        "            transaction[\"return_date\"] = return_date.strftime('%Y-%m-%d')\n",
        "\n",
        "            due_date = datetime.strptime(transaction[\"due_date\"], '%Y-%m-%d')\n",
        "            if return_date > due_date:\n",
        "                transaction[\"overdue_status\"] = \"Overdue\"\n",
        "                print(f\"Book '{book['title']}' returned late by {user['name']}.\")\n",
        "            else:\n",
        "                print(f\"Book '{book['title']}' returned on time by {user['name']}.\")\n",
        "\n",
        "            book[\"copies_available\"] += 1\n",
        "            book[\"status\"] = \"Available\"\n",
        "            user[\"borrow_history\"].remove(book[\"title\"])\n",
        "            transaction_found = True\n",
        "            break\n",
        "    if not transaction_found:\n",
        "        print(f\"Error: No active transaction found for this book by user {user['name']}.\")"
      ],
      "metadata": {
        "id": "T4WwjRjzOMdv"
      },
      "execution_count": 12,
      "outputs": []
    },
    {
      "cell_type": "markdown",
      "source": [
        "# Overdue Notification Function\n"
      ],
      "metadata": {
        "id": "UHkn3U-5AfiX"
      }
    },
    {
      "cell_type": "code",
      "source": [
        "# Function to check and notify users of overdue books\n",
        "def send_overdue_notifications():\n",
        "    print(\"Sending overdue notifications...\")\n",
        "    overdue_found = False\n",
        "    for transaction in transactions:\n",
        "        if transaction[\"return_date\"] is None:\n",
        "            due_date = datetime.strptime(transaction[\"due_date\"], '%Y-%m-%d')\n",
        "            if datetime.now() > due_date:\n",
        "                user = find_user_by_id(transaction[\"user_id\"])\n",
        "                book = find_book_by_id(transaction[\"book_id\"])\n",
        "                print(f\"Notification: Book '{book['title']}' is overdue for {user['name']}. Please return it.\")\n",
        "                overdue_found = True\n",
        "    if not overdue_found:\n",
        "        print(\"No overdue books at the moment.\")"
      ],
      "metadata": {
        "id": "ZnctZ-RSAgQR"
      },
      "execution_count": 13,
      "outputs": []
    },
    {
      "cell_type": "markdown",
      "source": [
        "## Book Recommendations Based on Genre"
      ],
      "metadata": {
        "id": "fxbNw_PmOVPC"
      }
    },
    {
      "cell_type": "code",
      "source": [
        "def recommend_books(user_id):\n",
        "    user = find_user_by_id(user_id)\n",
        "    if not user or not user[\"borrow_history\"]:\n",
        "        print(\"No borrow history available for recommendations.\")\n",
        "        return\n",
        "\n",
        "    last_borrowed_title = user[\"borrow_history\"][-1]\n",
        "    last_borrowed_book = next((book for book in books if book[\"title\"] == last_borrowed_title), None)\n",
        "\n",
        "    if last_borrowed_book:\n",
        "        genre = last_borrowed_book[\"genre\"]\n",
        "        print(f\"Recommended books in genre '{genre}':\")\n",
        "        for book in books:\n",
        "            if book[\"genre\"] == genre and book[\"title\"] != last_borrowed_title:\n",
        "                print(f\"- {book['title']} by {book['author']} ({'Available' if book['copies_available'] > 0 else 'Borrowed'})\")\n",
        "    else:\n",
        "        print(\"No suitable recommendations found.\")"
      ],
      "metadata": {
        "id": "RVNDLqisOTdM"
      },
      "execution_count": 14,
      "outputs": []
    },
    {
      "cell_type": "markdown",
      "source": [
        "## Library Statistics"
      ],
      "metadata": {
        "id": "Fb4I3lZjOYGJ"
      }
    },
    {
      "cell_type": "code",
      "source": [
        "def most_borrowed_books():\n",
        "    borrow_count = {book[\"title\"]: 0 for book in books}\n",
        "    for transaction in transactions:\n",
        "        book = find_book_by_id(transaction[\"book_id\"])\n",
        "        if book:\n",
        "            borrow_count[book[\"title\"]] += 1\n",
        "\n",
        "    print(\"Most Borrowed Books:\")\n",
        "    sorted_books = sorted(borrow_count.items(), key=lambda x: x[1], reverse=True)\n",
        "    for title, count in sorted_books[:5]:  # Top 5 most borrowed books\n",
        "        print(f\"{title}: {count} times\")\n",
        "\n",
        "def most_active_users():\n",
        "    user_activity = {user[\"name\"]: len(user[\"borrow_history\"]) for user in users.values()}\n",
        "\n",
        "    print(\"Most Active Users:\")\n",
        "    sorted_users = sorted(user_activity.items(), key=lambda x: x[1], reverse=True)\n",
        "    for name, count in sorted_users[:5]:  # Top 5 most active users\n",
        "        print(f\"{name}: {count} books borrowed\")"
      ],
      "metadata": {
        "id": "3EhfiCBWOa57"
      },
      "execution_count": null,
      "outputs": []
    },
    {
      "cell_type": "markdown",
      "source": [
        "# User Interaction: Search and Manage Books via Console"
      ],
      "metadata": {
        "id": "jVYAxphjAkyd"
      }
    },
    {
      "cell_type": "code",
      "source": [
        "# Main function to interact with the user\n",
        "def user_interaction():\n",
        "    print(\"Welcome to the Library Management System\")\n",
        "    print(\"1. Register as a new user\")\n",
        "    print(\"2. Login to the system\")\n",
        "\n",
        "    choice = input(\"Select an option: \")\n",
        "    if choice == '1':\n",
        "        register_user()\n",
        "        return  # Exit after registration to start the login process again\n",
        "    elif choice != '2':\n",
        "        print(\"Invalid option.\")\n",
        "        return\n",
        "\n",
        "    user = user_login()\n",
        "    if not user:\n",
        "        return  # Exit if login fails\n",
        "\n",
        "    while True:\n",
        "        print(\"\\n--- Main Menu ---\")\n",
        "        print(\"1. Search Book\")\n",
        "        print(\"2. Borrow Book\")\n",
        "        print(\"3. Return Book\")\n",
        "        print(\"4. Add Book (Admin)\")\n",
        "        print(\"5. Remove Book (Admin)\")\n",
        "        print(\"6. Send Overdue Notifications\")\n",
        "        print(\"7. Reserve Book\")\n",
        "        print(\"8. Book Recommendations\")\n",
        "        print(\"9. View Library Statistics (Admin)\")\n",
        "        print(\"10. Exit\")\n",
        "\n",
        "        choice = input(\"Select an option: \")\n",
        "\n",
        "        if choice == '1':\n",
        "            title = input(\"Enter book title to search: \").strip()\n",
        "            search_book(title)\n",
        "        elif choice == '2':\n",
        "            book_id = int(input(\"Enter the book ID to borrow: \").strip())\n",
        "            borrow_book(user[\"user_id\"], book_id)\n",
        "        elif choice == '3':\n",
        "            book_id = int(input(\"Enter the book ID to return: \").strip())\n",
        "            return_book(user[\"user_id\"], book_id)\n",
        "        elif choice == '4' and is_admin(user):\n",
        "            book_id = int(input(\"Enter new book ID: \").strip())\n",
        "            title = input(\"Enter book title: \").strip()\n",
        "            author = input(\"Enter book author: \").strip()\n",
        "            genre = input(\"Enter book genre: \").strip()\n",
        "            copies = int(input(\"Enter number of copies: \").strip())\n",
        "            add_book(book_id, title, author, genre, copies)\n",
        "        elif choice == '5' and is_admin(user):\n",
        "            book_id = int(input(\"Enter book ID to remove: \").strip())\n",
        "            remove_book(book_id)\n",
        "        elif choice == '6':\n",
        "            send_overdue_notifications()\n",
        "        elif choice == '7':\n",
        "            book_id = int(input(\"Enter book ID to reserve: \").strip())\n",
        "            reserve_book(user[\"user_id\"], book_id)\n",
        "        elif choice == '8':\n",
        "            recommend_books(user[\"user_id\"])\n",
        "        elif choice == '9' and is_admin(user):\n",
        "            most_borrowed_books()\n",
        "            most_active_users()\n",
        "        elif choice == '10':\n",
        "            break\n",
        "        else:\n",
        "            print(\"Invalid option or insufficient permissions.\")\n",
        "\n",
        "# Start the user interaction console\n",
        "user_interaction()"
      ],
      "metadata": {
        "colab": {
          "base_uri": "https://localhost:8080/"
        },
        "id": "Gu4_4hSKAi-S",
        "outputId": "1ca7de44-abdb-4793-f7f2-6c0efd41e717"
      },
      "execution_count": 16,
      "outputs": [
        {
          "name": "stdout",
          "output_type": "stream",
          "text": [
            "Welcome to the Library Management System\n",
            "1. Register as a new user\n",
            "2. Login to the system\n",
            "Select an option: 2\n",
            "=== Login ===\n",
            "Enter your User ID: 302\n",
            "Enter your password: adminpass\n",
            "Welcome, Henry (Admin)!\n",
            "\n",
            "--- Main Menu ---\n",
            "1. Search Book\n",
            "2. Borrow Book\n",
            "3. Return Book\n",
            "4. Add Book (Admin)\n",
            "5. Remove Book (Admin)\n",
            "6. Send Overdue Notifications\n",
            "7. Reserve Book\n",
            "8. Book Recommendations\n",
            "9. View Library Statistics (Admin)\n",
            "10. Exit\n",
            "Select an option: 8\n",
            "No borrow history available for recommendations.\n",
            "\n",
            "--- Main Menu ---\n",
            "1. Search Book\n",
            "2. Borrow Book\n",
            "3. Return Book\n",
            "4. Add Book (Admin)\n",
            "5. Remove Book (Admin)\n",
            "6. Send Overdue Notifications\n",
            "7. Reserve Book\n",
            "8. Book Recommendations\n",
            "9. View Library Statistics (Admin)\n",
            "10. Exit\n",
            "Select an option: 10\n"
          ]
        }
      ]
    },
    {
      "cell_type": "code",
      "source": [],
      "metadata": {
        "id": "shtsuELADf9i"
      },
      "execution_count": null,
      "outputs": []
    }
  ]
}